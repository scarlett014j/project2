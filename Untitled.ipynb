{
 "cells": [
  {
   "cell_type": "code",
   "execution_count": null,
   "metadata": {},
   "outputs": [],
   "source": [
    "11007"
   ]
  },
  {
   "cell_type": "code",
   "execution_count": 1,
   "metadata": {},
   "outputs": [],
   "source": [
    "import requests\n",
    "import json\n",
    "import pandas as pd"
   ]
  },
  {
   "cell_type": "code",
   "execution_count": 2,
   "metadata": {},
   "outputs": [],
   "source": [
    "url = \"https://www.thecocktaildb.com/api/json/v1/1/lookup.php?i=\""
   ]
  },
  {
   "cell_type": "code",
   "execution_count": null,
   "metadata": {},
   "outputs": [],
   "source": []
  },
  {
   "cell_type": "code",
   "execution_count": 3,
   "metadata": {},
   "outputs": [
    {
     "data": {
      "text/plain": [
       "'https://www.thecocktaildb.com/api/json/v1/1/lookup.php?i=11007'"
      ]
     },
     "execution_count": 3,
     "metadata": {},
     "output_type": "execute_result"
    }
   ],
   "source": [
    "full_url = url + \"11007\"\n",
    "full_url"
   ]
  },
  {
   "cell_type": "code",
   "execution_count": 4,
   "metadata": {},
   "outputs": [
    {
     "data": {
      "text/plain": [
       "{'drinks': [{'idDrink': '11007',\n",
       "   'strDrink': 'Margarita',\n",
       "   'strDrinkAlternate': None,\n",
       "   'strDrinkES': None,\n",
       "   'strDrinkDE': None,\n",
       "   'strDrinkFR': None,\n",
       "   'strDrinkZH-HANS': None,\n",
       "   'strDrinkZH-HANT': None,\n",
       "   'strTags': 'IBA,ContemporaryClassic',\n",
       "   'strVideo': None,\n",
       "   'strCategory': 'Ordinary Drink',\n",
       "   'strIBA': 'Contemporary Classics',\n",
       "   'strAlcoholic': 'Alcoholic',\n",
       "   'strGlass': 'Cocktail glass',\n",
       "   'strInstructions': 'Rub the rim of the glass with the lime slice to make the salt stick to it. Take care to moisten only the outer rim and sprinkle the salt on it. The salt should present to the lips of the imbiber and never mix into the cocktail. Shake the other ingredients with ice, then carefully pour into the glass.',\n",
       "   'strInstructionsES': None,\n",
       "   'strInstructionsDE': 'Reiben Sie den Rand des Glases mit der Limettenscheibe, damit das Salz daran haftet. Achten Sie darauf, dass nur der äußere Rand angefeuchtet wird und streuen Sie das Salz darauf. Das Salz sollte sich auf den Lippen des Genießers befinden und niemals in den Cocktail einmischen. Die anderen Zutaten mit Eis schütteln und vorsichtig in das Glas geben.',\n",
       "   'strInstructionsFR': None,\n",
       "   'strInstructionsZH-HANS': None,\n",
       "   'strInstructionsZH-HANT': None,\n",
       "   'strDrinkThumb': 'https://www.thecocktaildb.com/images/media/drink/5noda61589575158.jpg',\n",
       "   'strIngredient1': 'Tequila',\n",
       "   'strIngredient2': 'Triple sec',\n",
       "   'strIngredient3': 'Lime juice',\n",
       "   'strIngredient4': 'Salt',\n",
       "   'strIngredient5': None,\n",
       "   'strIngredient6': None,\n",
       "   'strIngredient7': None,\n",
       "   'strIngredient8': None,\n",
       "   'strIngredient9': None,\n",
       "   'strIngredient10': None,\n",
       "   'strIngredient11': None,\n",
       "   'strIngredient12': None,\n",
       "   'strIngredient13': None,\n",
       "   'strIngredient14': None,\n",
       "   'strIngredient15': None,\n",
       "   'strMeasure1': '1 1/2 oz ',\n",
       "   'strMeasure2': '1/2 oz ',\n",
       "   'strMeasure3': '1 oz ',\n",
       "   'strMeasure4': None,\n",
       "   'strMeasure5': None,\n",
       "   'strMeasure6': None,\n",
       "   'strMeasure7': None,\n",
       "   'strMeasure8': None,\n",
       "   'strMeasure9': None,\n",
       "   'strMeasure10': None,\n",
       "   'strMeasure11': None,\n",
       "   'strMeasure12': None,\n",
       "   'strMeasure13': None,\n",
       "   'strMeasure14': None,\n",
       "   'strMeasure15': None,\n",
       "   'strCreativeCommonsConfirmed': 'Yes',\n",
       "   'dateModified': '2015-08-18 14:42:59'}]}"
      ]
     },
     "execution_count": 4,
     "metadata": {},
     "output_type": "execute_result"
    }
   ],
   "source": [
    "response1 = requests.get(full_url).json()\n",
    "response1"
   ]
  },
  {
   "cell_type": "code",
   "execution_count": 5,
   "metadata": {},
   "outputs": [],
   "source": [
    "category = response1['drinks']\n"
   ]
  },
  {
   "cell_type": "code",
   "execution_count": null,
   "metadata": {},
   "outputs": [],
   "source": [
    "for name in category:\n",
    "    print(name['strCategory'])\n",
    "    print(name['strGlass'])\n",
    "    print(name['strInstructions'])\n",
    "    print(name['strIngredient1'])\n",
    "    print(name['strIngredient2'])\n",
    "    print(name['strIngredient3'])\n",
    "    print(name['strIngredient4'])\n",
    "    print(name['strIngredient5'])\n",
    "    print(name['strIngredient6'])\n",
    "    print(name['strIngredient7'])\n",
    "    print(name['strIngredient8'])\n",
    "    print(name['strIngredient9'])\n",
    "    print(name['strIngredient10'])\n",
    "    print(name['strIngredient11'])\n",
    "    print(name['strIngredient12'])\n",
    "    print(name['strIngredient13'])\n",
    "    print(name['strIngredient14'])\n",
    "    print(name['strIngredient15'])\n",
    "    "
   ]
  },
  {
   "cell_type": "code",
   "execution_count": 6,
   "metadata": {},
   "outputs": [],
   "source": [
    "drink_n = []\n",
    "drink_g = []\n",
    "drink_r = []\n",
    "drink_i1 = []\n",
    "drink_i2 = []\n",
    "drink_i3 = []\n",
    "drink_i4 = []\n",
    "drink_i5 = []\n",
    "drink_i6 = []\n",
    "drink_i7 = []\n",
    "drink_i8 = []\n",
    "drink_i9 = []\n",
    "drink_i10 = []\n",
    "drink_i11 = []\n",
    "drink_i12 = []\n",
    "drink_i13 = []\n",
    "drink_i14 = []\n",
    "drink_i15 = []\n",
    "drink_m1 = []\n",
    "drink_m2 = []\n",
    "drink_m3 = []\n",
    "drink_m4 = []\n",
    "drink_m5 = []\n",
    "drink_m6 = []\n",
    "drink_m7 = []\n",
    "drink_m8 = []\n",
    "drink_m9 = []\n",
    "drink_m10 = []\n",
    "drink_m11 = []\n",
    "drink_m12 = []\n",
    "drink_m13 = []\n",
    "drink_m14 = []\n",
    "drink_m15 = []"
   ]
  },
  {
   "cell_type": "code",
   "execution_count": 7,
   "metadata": {},
   "outputs": [],
   "source": [
    "for name in category:\n",
    "    drink_n.append(name['strDrink'])\n",
    "    drink_g.append(name['strGlass'])\n",
    "    drink_r.append(name['strInstructions'])\n",
    "    drink_i1.append((name['strIngredient1']))\n",
    "    drink_i2.append((name['strIngredient2']))\n",
    "    drink_i3.append((name['strIngredient3']))\n",
    "    drink_i4.append((name['strIngredient4']))\n",
    "    drink_i5.append((name['strIngredient5']))\n",
    "    drink_i6.append((name['strIngredient6']))\n",
    "    drink_i7.append((name['strIngredient7']))\n",
    "    drink_i8.append((name['strIngredient8']))\n",
    "    drink_i9.append((name['strIngredient9']))\n",
    "    drink_i10.append((name['strIngredient10']))\n",
    "    drink_i11.append((name['strIngredient11']))\n",
    "    drink_i12.append((name['strIngredient12']))\n",
    "    drink_i13.append((name['strIngredient13']))\n",
    "    drink_i14.append((name['strIngredient14']))\n",
    "    drink_i15.append((name['strIngredient15']))\n",
    "    drink_m1.append((name['strMeasure1']))\n",
    "    drink_m2.append((name['strMeasure2']))\n",
    "    drink_m3.append((name['strMeasure3']))\n",
    "    drink_m4.append((name['strMeasure4']))\n",
    "    drink_m5.append((name['strMeasure5']))\n",
    "    drink_m6.append((name['strMeasure6']))\n",
    "    drink_m7.append((name['strMeasure7']))\n",
    "    drink_m8.append((name['strMeasure8']))\n",
    "    drink_m9.append((name['strMeasure9']))\n",
    "    drink_m10.append((name['strMeasure10']))\n",
    "    drink_m11.append((name['strMeasure11']))\n",
    "    drink_m12.append((name['strMeasure12']))\n",
    "    drink_m13.append((name['strMeasure13']))\n",
    "    drink_m14.append((name['strMeasure14']))\n",
    "    drink_m15.append((name['strMeasure15']))"
   ]
  },
  {
   "cell_type": "code",
   "execution_count": 28,
   "metadata": {},
   "outputs": [],
   "source": [
    "full_df = pd.DataFrame({\"Name\": drink_n, \"Glass\": drink_g, \"Instructions\": drink_r, \"Ingredient 1\": drink_i1, \n",
    "                        \"Ingredient 2\":drink_i2, \"Ingredient 3\": drink_i3, \"Ingredient 4\": drink_i4, \"Ingredient 5\":drink_i5,\n",
    "                        \"Ingredient 6\":drink_i6, \"Ingredient 7\": drink_i7, \"Ingredient 8\": drink_i8, \"Ingredient 9\": drink_i9,\n",
    "                        \"Ingredient 10\":drink_i10, \"Ingredient 11\": drink_i11, \"Ingredient 12\": drink_i12, \"Ingredient 13\": drink_i13,\n",
    "                        \"Ingredient 14\": drink_i14, \"Ingredient 15\": drink_i15, \"Measurement 1\": drink_m1, \"Measurement 2\": drink_m2,\n",
    "                        \"Measurement 3\": drink_m3, \"Measurement 4\": drink_m4, \"Measurement 5\": drink_m5, \"Measurement 6\": drink_m6,\n",
    "                        \"Measurement 7\": drink_m7, \"Measurement 8\": drink_m8, \"Measurement 9\": drink_m9, \"Measuremnt 10\": drink_m10, \n",
    "                        \"Measurement 11\": drink_m11, \"Measurement 12\": drink_m12, \"Measurement 13\": drink_m13, \"Measurement 14\": drink_m14, \n",
    "                        \"Measurement 15\": drink_m15}) \n",
    "\n",
    "\n",
    "#pd.concat([drink_g, drink_r, "
   ]
  },
  {
   "cell_type": "code",
   "execution_count": 29,
   "metadata": {},
   "outputs": [
    {
     "data": {
      "text/html": [
       "<div>\n",
       "<style scoped>\n",
       "    .dataframe tbody tr th:only-of-type {\n",
       "        vertical-align: middle;\n",
       "    }\n",
       "\n",
       "    .dataframe tbody tr th {\n",
       "        vertical-align: top;\n",
       "    }\n",
       "\n",
       "    .dataframe thead th {\n",
       "        text-align: right;\n",
       "    }\n",
       "</style>\n",
       "<table border=\"1\" class=\"dataframe\">\n",
       "  <thead>\n",
       "    <tr style=\"text-align: right;\">\n",
       "      <th></th>\n",
       "      <th>Name</th>\n",
       "      <th>Glass</th>\n",
       "      <th>Instructions</th>\n",
       "      <th>Ingredient 1</th>\n",
       "      <th>Ingredient 2</th>\n",
       "      <th>Ingredient 3</th>\n",
       "      <th>Ingredient 4</th>\n",
       "      <th>Ingredient 5</th>\n",
       "      <th>Ingredient 6</th>\n",
       "      <th>Ingredient 7</th>\n",
       "      <th>...</th>\n",
       "      <th>Measurement 6</th>\n",
       "      <th>Measurement 7</th>\n",
       "      <th>Measurement 8</th>\n",
       "      <th>Measurement 9</th>\n",
       "      <th>Measuremnt 10</th>\n",
       "      <th>Measurement 11</th>\n",
       "      <th>Measurement 12</th>\n",
       "      <th>Measurement 13</th>\n",
       "      <th>Measurement 14</th>\n",
       "      <th>Measurement 15</th>\n",
       "    </tr>\n",
       "  </thead>\n",
       "  <tbody>\n",
       "    <tr>\n",
       "      <th>0</th>\n",
       "      <td>Margarita</td>\n",
       "      <td>Cocktail glass</td>\n",
       "      <td>Rub the rim of the glass with the lime slice t...</td>\n",
       "      <td>Tequila</td>\n",
       "      <td>Triple sec</td>\n",
       "      <td>Lime juice</td>\n",
       "      <td>Salt</td>\n",
       "      <td>None</td>\n",
       "      <td>None</td>\n",
       "      <td>None</td>\n",
       "      <td>...</td>\n",
       "      <td>None</td>\n",
       "      <td>None</td>\n",
       "      <td>None</td>\n",
       "      <td>None</td>\n",
       "      <td>None</td>\n",
       "      <td>None</td>\n",
       "      <td>None</td>\n",
       "      <td>None</td>\n",
       "      <td>None</td>\n",
       "      <td>None</td>\n",
       "    </tr>\n",
       "  </tbody>\n",
       "</table>\n",
       "<p>1 rows × 33 columns</p>\n",
       "</div>"
      ],
      "text/plain": [
       "        Name           Glass  \\\n",
       "0  Margarita  Cocktail glass   \n",
       "\n",
       "                                        Instructions Ingredient 1  \\\n",
       "0  Rub the rim of the glass with the lime slice t...      Tequila   \n",
       "\n",
       "  Ingredient 2 Ingredient 3 Ingredient 4 Ingredient 5 Ingredient 6  \\\n",
       "0   Triple sec   Lime juice         Salt         None         None   \n",
       "\n",
       "  Ingredient 7  ... Measurement 6 Measurement 7 Measurement 8 Measurement 9  \\\n",
       "0         None  ...          None          None          None          None   \n",
       "\n",
       "  Measuremnt 10 Measurement 11 Measurement 12 Measurement 13 Measurement 14  \\\n",
       "0          None           None           None           None           None   \n",
       "\n",
       "  Measurement 15  \n",
       "0           None  \n",
       "\n",
       "[1 rows x 33 columns]"
      ]
     },
     "execution_count": 29,
     "metadata": {},
     "output_type": "execute_result"
    }
   ],
   "source": [
    "full_df"
   ]
  },
  {
   "cell_type": "code",
   "execution_count": null,
   "metadata": {},
   "outputs": [],
   "source": []
  }
 ],
 "metadata": {
  "kernelspec": {
   "display_name": "Python 3",
   "language": "python",
   "name": "python3"
  },
  "language_info": {
   "codemirror_mode": {
    "name": "ipython",
    "version": 3
   },
   "file_extension": ".py",
   "mimetype": "text/x-python",
   "name": "python",
   "nbconvert_exporter": "python",
   "pygments_lexer": "ipython3",
   "version": "3.7.6"
  }
 },
 "nbformat": 4,
 "nbformat_minor": 4
}

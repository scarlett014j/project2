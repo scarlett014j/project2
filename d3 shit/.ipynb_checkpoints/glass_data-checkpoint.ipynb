{
 "metadata": {
  "language_info": {
   "codemirror_mode": {
    "name": "ipython",
    "version": 3
   },
   "file_extension": ".py",
   "mimetype": "text/x-python",
   "name": "python",
   "nbconvert_exporter": "python",
   "pygments_lexer": "ipython3",
   "version": "3.7.6-final"
  },
  "orig_nbformat": 2,
  "kernelspec": {
   "name": "Python 3.7.6 64-bit ('base': conda)",
   "display_name": "Python 3.7.6 64-bit ('base': conda)",
   "metadata": {
    "interpreter": {
     "hash": "dca0ade3e726a953b501b15e8e990130d2b7799f14cfd9f4271676035ebe5511"
    }
   }
  }
 },
 "nbformat": 4,
 "nbformat_minor": 2,
 "cells": [
  {
   "cell_type": "code",
   "execution_count": 3,
   "metadata": {},
   "outputs": [],
   "source": [
    "import pandas as pd\n",
    "import json\n",
    "csv = \"full_drinks.csv\""
   ]
  },
  {
   "cell_type": "code",
   "execution_count": 6,
   "metadata": {},
   "outputs": [
    {
     "output_type": "execute_result",
     "data": {
      "text/plain": [
       "     Unnamed: 0                         Name                Glass  \\\n",
       "0             0  3-Mile Long Island Iced Tea        Collins Glass   \n",
       "1             1                     410 Gone        Collins Glass   \n",
       "2             2                        50/50        Collins Glass   \n",
       "3             3                     501 Blue        Collins Glass   \n",
       "4             4                   69 Special        Collins Glass   \n",
       "..          ...                          ...                  ...   \n",
       "387         387                       Vesper       Cocktail glass   \n",
       "388         388                  Yellow Bird       Cocktail glass   \n",
       "389         389              Zippy's Revenge  Old-fashioned glass   \n",
       "390         390                       Zombie      Hurricane glass   \n",
       "391         391                    Zorbatini       Cocktail glass   \n",
       "\n",
       "                                          Instructions   Ingredient 1  \\\n",
       "0    Fill 14oz glass with ice and alcohol. Fill 2/3...            Gin   \n",
       "1                                                  NaN    Peach Vodka   \n",
       "2    fill glass with crushed ice. Add vodka. Add a ...  Vanilla vodka   \n",
       "3             Mix equal amounts into a glass with ice.   Blue Curacao   \n",
       "4    Pour 2 oz. gin. Add 4 oz. 7-up. Add Lemon Juic...            Gin   \n",
       "..                                                 ...            ...   \n",
       "387  Shake over ice until well chilled, then strain...            Gin   \n",
       "388     Shake and strain into a chilled cocktail glass      White Rum   \n",
       "389  Mix Kool-Aid to taste then add Rum and ammaret...       Amaretto   \n",
       "390  \\nBlend at high speed for no more than 5 secon...            Rum   \n",
       "391  Prepare like a Martini. Garnish with a green o...          Vodka   \n",
       "\n",
       "           Ingredient 2   Ingredient 3 Ingredient 4 Ingredient 5 Ingredient 6  \\\n",
       "0             Light rum        Tequila   Triple sec        Vodka    Coca-Cola   \n",
       "1             Coca-Cola            NaN          NaN          NaN          NaN   \n",
       "2         Grand Marnier   Orange juice          NaN          NaN          NaN   \n",
       "3    Blueberry schnapps          Vodka     Sour mix         7-Up          NaN   \n",
       "4                  7-Up    Lemon juice          NaN          NaN          NaN   \n",
       "..                  ...            ...          ...          ...          ...   \n",
       "387               Vodka   Lillet Blanc          NaN          NaN          NaN   \n",
       "388            Galliano     Triple Sec   Lime Juice          NaN          NaN   \n",
       "389                 Rum       Kool-Aid          NaN          NaN          NaN   \n",
       "390            Gold rum  151 proof rum       Pernod    Grenadine   Lime Juice   \n",
       "391                Ouzo            NaN          NaN          NaN          NaN   \n",
       "\n",
       "     ... Measurement 7 Measurement 8 Measurement 9  Measuremnt 10  \\\n",
       "0    ...     1-2 dash       1 wedge   Garnish with            NaN   \n",
       "1    ...           NaN           NaN           NaN            NaN   \n",
       "2    ...           NaN           NaN           NaN            NaN   \n",
       "3    ...           NaN           NaN           NaN            NaN   \n",
       "4    ...           NaN           NaN           NaN            NaN   \n",
       "..   ...           ...           ...           ...            ...   \n",
       "387  ...           NaN           NaN           NaN            NaN   \n",
       "388  ...           NaN           NaN           NaN            NaN   \n",
       "389  ...           NaN           NaN           NaN            NaN   \n",
       "390  ...        1 drop           NaN           NaN            NaN   \n",
       "391  ...           NaN           NaN           NaN            NaN   \n",
       "\n",
       "     Measurement 11  Measurement 12  Measurement 13  Measurement 14  \\\n",
       "0               NaN             NaN             NaN             NaN   \n",
       "1               NaN             NaN             NaN             NaN   \n",
       "2               NaN             NaN             NaN             NaN   \n",
       "3               NaN             NaN             NaN             NaN   \n",
       "4               NaN             NaN             NaN             NaN   \n",
       "..              ...             ...             ...             ...   \n",
       "387             NaN             NaN             NaN             NaN   \n",
       "388             NaN             NaN             NaN             NaN   \n",
       "389             NaN             NaN             NaN             NaN   \n",
       "390             NaN             NaN             NaN             NaN   \n",
       "391             NaN             NaN             NaN             NaN   \n",
       "\n",
       "     Measurement 15                                          Image URL  \n",
       "0               NaN  https://www.thecocktaildb.com/images/media/dri...  \n",
       "1               NaN  https://www.thecocktaildb.com/images/media/dri...  \n",
       "2               NaN  https://www.thecocktaildb.com/images/media/dri...  \n",
       "3               NaN  https://www.thecocktaildb.com/images/media/dri...  \n",
       "4               NaN  https://www.thecocktaildb.com/images/media/dri...  \n",
       "..              ...                                                ...  \n",
       "387             NaN  https://www.thecocktaildb.com/images/media/dri...  \n",
       "388             NaN  https://www.thecocktaildb.com/images/media/dri...  \n",
       "389             NaN  https://www.thecocktaildb.com/images/media/dri...  \n",
       "390             NaN  https://www.thecocktaildb.com/images/media/dri...  \n",
       "391             NaN  https://www.thecocktaildb.com/images/media/dri...  \n",
       "\n",
       "[392 rows x 35 columns]"
      ],
      "text/html": "<div>\n<style scoped>\n    .dataframe tbody tr th:only-of-type {\n        vertical-align: middle;\n    }\n\n    .dataframe tbody tr th {\n        vertical-align: top;\n    }\n\n    .dataframe thead th {\n        text-align: right;\n    }\n</style>\n<table border=\"1\" class=\"dataframe\">\n  <thead>\n    <tr style=\"text-align: right;\">\n      <th></th>\n      <th>Unnamed: 0</th>\n      <th>Name</th>\n      <th>Glass</th>\n      <th>Instructions</th>\n      <th>Ingredient 1</th>\n      <th>Ingredient 2</th>\n      <th>Ingredient 3</th>\n      <th>Ingredient 4</th>\n      <th>Ingredient 5</th>\n      <th>Ingredient 6</th>\n      <th>...</th>\n      <th>Measurement 7</th>\n      <th>Measurement 8</th>\n      <th>Measurement 9</th>\n      <th>Measuremnt 10</th>\n      <th>Measurement 11</th>\n      <th>Measurement 12</th>\n      <th>Measurement 13</th>\n      <th>Measurement 14</th>\n      <th>Measurement 15</th>\n      <th>Image URL</th>\n    </tr>\n  </thead>\n  <tbody>\n    <tr>\n      <th>0</th>\n      <td>0</td>\n      <td>3-Mile Long Island Iced Tea</td>\n      <td>Collins Glass</td>\n      <td>Fill 14oz glass with ice and alcohol. Fill 2/3...</td>\n      <td>Gin</td>\n      <td>Light rum</td>\n      <td>Tequila</td>\n      <td>Triple sec</td>\n      <td>Vodka</td>\n      <td>Coca-Cola</td>\n      <td>...</td>\n      <td>1-2 dash</td>\n      <td>1 wedge</td>\n      <td>Garnish with</td>\n      <td>NaN</td>\n      <td>NaN</td>\n      <td>NaN</td>\n      <td>NaN</td>\n      <td>NaN</td>\n      <td>NaN</td>\n      <td>https://www.thecocktaildb.com/images/media/dri...</td>\n    </tr>\n    <tr>\n      <th>1</th>\n      <td>1</td>\n      <td>410 Gone</td>\n      <td>Collins Glass</td>\n      <td>NaN</td>\n      <td>Peach Vodka</td>\n      <td>Coca-Cola</td>\n      <td>NaN</td>\n      <td>NaN</td>\n      <td>NaN</td>\n      <td>NaN</td>\n      <td>...</td>\n      <td>NaN</td>\n      <td>NaN</td>\n      <td>NaN</td>\n      <td>NaN</td>\n      <td>NaN</td>\n      <td>NaN</td>\n      <td>NaN</td>\n      <td>NaN</td>\n      <td>NaN</td>\n      <td>https://www.thecocktaildb.com/images/media/dri...</td>\n    </tr>\n    <tr>\n      <th>2</th>\n      <td>2</td>\n      <td>50/50</td>\n      <td>Collins Glass</td>\n      <td>fill glass with crushed ice. Add vodka. Add a ...</td>\n      <td>Vanilla vodka</td>\n      <td>Grand Marnier</td>\n      <td>Orange juice</td>\n      <td>NaN</td>\n      <td>NaN</td>\n      <td>NaN</td>\n      <td>...</td>\n      <td>NaN</td>\n      <td>NaN</td>\n      <td>NaN</td>\n      <td>NaN</td>\n      <td>NaN</td>\n      <td>NaN</td>\n      <td>NaN</td>\n      <td>NaN</td>\n      <td>NaN</td>\n      <td>https://www.thecocktaildb.com/images/media/dri...</td>\n    </tr>\n    <tr>\n      <th>3</th>\n      <td>3</td>\n      <td>501 Blue</td>\n      <td>Collins Glass</td>\n      <td>Mix equal amounts into a glass with ice.</td>\n      <td>Blue Curacao</td>\n      <td>Blueberry schnapps</td>\n      <td>Vodka</td>\n      <td>Sour mix</td>\n      <td>7-Up</td>\n      <td>NaN</td>\n      <td>...</td>\n      <td>NaN</td>\n      <td>NaN</td>\n      <td>NaN</td>\n      <td>NaN</td>\n      <td>NaN</td>\n      <td>NaN</td>\n      <td>NaN</td>\n      <td>NaN</td>\n      <td>NaN</td>\n      <td>https://www.thecocktaildb.com/images/media/dri...</td>\n    </tr>\n    <tr>\n      <th>4</th>\n      <td>4</td>\n      <td>69 Special</td>\n      <td>Collins Glass</td>\n      <td>Pour 2 oz. gin. Add 4 oz. 7-up. Add Lemon Juic...</td>\n      <td>Gin</td>\n      <td>7-Up</td>\n      <td>Lemon juice</td>\n      <td>NaN</td>\n      <td>NaN</td>\n      <td>NaN</td>\n      <td>...</td>\n      <td>NaN</td>\n      <td>NaN</td>\n      <td>NaN</td>\n      <td>NaN</td>\n      <td>NaN</td>\n      <td>NaN</td>\n      <td>NaN</td>\n      <td>NaN</td>\n      <td>NaN</td>\n      <td>https://www.thecocktaildb.com/images/media/dri...</td>\n    </tr>\n    <tr>\n      <th>...</th>\n      <td>...</td>\n      <td>...</td>\n      <td>...</td>\n      <td>...</td>\n      <td>...</td>\n      <td>...</td>\n      <td>...</td>\n      <td>...</td>\n      <td>...</td>\n      <td>...</td>\n      <td>...</td>\n      <td>...</td>\n      <td>...</td>\n      <td>...</td>\n      <td>...</td>\n      <td>...</td>\n      <td>...</td>\n      <td>...</td>\n      <td>...</td>\n      <td>...</td>\n      <td>...</td>\n    </tr>\n    <tr>\n      <th>387</th>\n      <td>387</td>\n      <td>Vesper</td>\n      <td>Cocktail glass</td>\n      <td>Shake over ice until well chilled, then strain...</td>\n      <td>Gin</td>\n      <td>Vodka</td>\n      <td>Lillet Blanc</td>\n      <td>NaN</td>\n      <td>NaN</td>\n      <td>NaN</td>\n      <td>...</td>\n      <td>NaN</td>\n      <td>NaN</td>\n      <td>NaN</td>\n      <td>NaN</td>\n      <td>NaN</td>\n      <td>NaN</td>\n      <td>NaN</td>\n      <td>NaN</td>\n      <td>NaN</td>\n      <td>https://www.thecocktaildb.com/images/media/dri...</td>\n    </tr>\n    <tr>\n      <th>388</th>\n      <td>388</td>\n      <td>Yellow Bird</td>\n      <td>Cocktail glass</td>\n      <td>Shake and strain into a chilled cocktail glass</td>\n      <td>White Rum</td>\n      <td>Galliano</td>\n      <td>Triple Sec</td>\n      <td>Lime Juice</td>\n      <td>NaN</td>\n      <td>NaN</td>\n      <td>...</td>\n      <td>NaN</td>\n      <td>NaN</td>\n      <td>NaN</td>\n      <td>NaN</td>\n      <td>NaN</td>\n      <td>NaN</td>\n      <td>NaN</td>\n      <td>NaN</td>\n      <td>NaN</td>\n      <td>https://www.thecocktaildb.com/images/media/dri...</td>\n    </tr>\n    <tr>\n      <th>389</th>\n      <td>389</td>\n      <td>Zippy's Revenge</td>\n      <td>Old-fashioned glass</td>\n      <td>Mix Kool-Aid to taste then add Rum and ammaret...</td>\n      <td>Amaretto</td>\n      <td>Rum</td>\n      <td>Kool-Aid</td>\n      <td>NaN</td>\n      <td>NaN</td>\n      <td>NaN</td>\n      <td>...</td>\n      <td>NaN</td>\n      <td>NaN</td>\n      <td>NaN</td>\n      <td>NaN</td>\n      <td>NaN</td>\n      <td>NaN</td>\n      <td>NaN</td>\n      <td>NaN</td>\n      <td>NaN</td>\n      <td>https://www.thecocktaildb.com/images/media/dri...</td>\n    </tr>\n    <tr>\n      <th>390</th>\n      <td>390</td>\n      <td>Zombie</td>\n      <td>Hurricane glass</td>\n      <td>\\nBlend at high speed for no more than 5 secon...</td>\n      <td>Rum</td>\n      <td>Gold rum</td>\n      <td>151 proof rum</td>\n      <td>Pernod</td>\n      <td>Grenadine</td>\n      <td>Lime Juice</td>\n      <td>...</td>\n      <td>1 drop</td>\n      <td>NaN</td>\n      <td>NaN</td>\n      <td>NaN</td>\n      <td>NaN</td>\n      <td>NaN</td>\n      <td>NaN</td>\n      <td>NaN</td>\n      <td>NaN</td>\n      <td>https://www.thecocktaildb.com/images/media/dri...</td>\n    </tr>\n    <tr>\n      <th>391</th>\n      <td>391</td>\n      <td>Zorbatini</td>\n      <td>Cocktail glass</td>\n      <td>Prepare like a Martini. Garnish with a green o...</td>\n      <td>Vodka</td>\n      <td>Ouzo</td>\n      <td>NaN</td>\n      <td>NaN</td>\n      <td>NaN</td>\n      <td>NaN</td>\n      <td>...</td>\n      <td>NaN</td>\n      <td>NaN</td>\n      <td>NaN</td>\n      <td>NaN</td>\n      <td>NaN</td>\n      <td>NaN</td>\n      <td>NaN</td>\n      <td>NaN</td>\n      <td>NaN</td>\n      <td>https://www.thecocktaildb.com/images/media/dri...</td>\n    </tr>\n  </tbody>\n</table>\n<p>392 rows × 35 columns</p>\n</div>"
     },
     "metadata": {},
     "execution_count": 6
    }
   ],
   "source": [
    "glass_df = pd.read_csv(csv)\n",
    "glass_df"
   ]
  },
  {
   "cell_type": "code",
   "execution_count": null,
   "metadata": {},
   "outputs": [],
   "source": [
    "new_df = "
   ]
  }
 ]
}
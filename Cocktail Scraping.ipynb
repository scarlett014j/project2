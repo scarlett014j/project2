{
 "cells": [
  {
   "cell_type": "code",
   "execution_count": 1,
   "metadata": {},
   "outputs": [],
   "source": [
    "from bs4 import BeautifulSoup as bs"
   ]
  },
  {
   "cell_type": "code",
   "execution_count": 2,
   "metadata": {},
   "outputs": [],
   "source": [
    "import requests\n",
    "import json\n",
    "import pandas as pd\n",
    "from config import api_key"
   ]
  },
  {
   "cell_type": "code",
   "execution_count": 3,
   "metadata": {},
   "outputs": [],
   "source": [
    "ord_url = f\"https://www.thecocktaildb.com/api/json/v2/{api_key}/filter.php?c=Ordinary_Drink\"\n",
    "cocktail_url = f\"https://www.thecocktaildb.com/api/json/v2/{api_key}/filter.php?c=Cocktail\""
   ]
  },
  {
   "cell_type": "code",
   "execution_count": 4,
   "metadata": {},
   "outputs": [],
   "source": [
    "response1 = requests.get(ord_url).json()\n",
    "names = response1['drinks']"
   ]
  },
  {
   "cell_type": "code",
   "execution_count": 5,
   "metadata": {},
   "outputs": [],
   "source": [
    "# ordinary = []\n",
    "# for name in names:\n",
    "#     print(name['strDrink'])"
   ]
  },
  {
   "cell_type": "code",
   "execution_count": 6,
   "metadata": {},
   "outputs": [
    {
     "data": {
      "text/html": [
       "<div>\n",
       "<style scoped>\n",
       "    .dataframe tbody tr th:only-of-type {\n",
       "        vertical-align: middle;\n",
       "    }\n",
       "\n",
       "    .dataframe tbody tr th {\n",
       "        vertical-align: top;\n",
       "    }\n",
       "\n",
       "    .dataframe thead th {\n",
       "        text-align: right;\n",
       "    }\n",
       "</style>\n",
       "<table border=\"1\" class=\"dataframe\">\n",
       "  <thead>\n",
       "    <tr style=\"text-align: right;\">\n",
       "      <th></th>\n",
       "      <th>Name</th>\n",
       "    </tr>\n",
       "  </thead>\n",
       "  <tbody>\n",
       "    <tr>\n",
       "      <th>0</th>\n",
       "      <td>3-Mile Long Island Iced Tea</td>\n",
       "    </tr>\n",
       "    <tr>\n",
       "      <th>1</th>\n",
       "      <td>410 Gone</td>\n",
       "    </tr>\n",
       "    <tr>\n",
       "      <th>2</th>\n",
       "      <td>50/50</td>\n",
       "    </tr>\n",
       "    <tr>\n",
       "      <th>3</th>\n",
       "      <td>501 Blue</td>\n",
       "    </tr>\n",
       "    <tr>\n",
       "      <th>4</th>\n",
       "      <td>69 Special</td>\n",
       "    </tr>\n",
       "  </tbody>\n",
       "</table>\n",
       "</div>"
      ],
      "text/plain": [
       "                          Name\n",
       "0  3-Mile Long Island Iced Tea\n",
       "1                     410 Gone\n",
       "2                        50/50\n",
       "3                     501 Blue\n",
       "4                   69 Special"
      ]
     },
     "execution_count": 6,
     "metadata": {},
     "output_type": "execute_result"
    }
   ],
   "source": [
    "ordinary = []\n",
    "for name in names:\n",
    "    ordinary.append(name['strDrink'])\n",
    "    \n",
    "ord_df = pd.DataFrame(ordinary)\n",
    "ord_df.rename(columns = {0: \"Name\"}, inplace = True)\n",
    "ord_df.head()"
   ]
  },
  {
   "cell_type": "code",
   "execution_count": 7,
   "metadata": {},
   "outputs": [
    {
     "data": {
      "text/html": [
       "<div>\n",
       "<style scoped>\n",
       "    .dataframe tbody tr th:only-of-type {\n",
       "        vertical-align: middle;\n",
       "    }\n",
       "\n",
       "    .dataframe tbody tr th {\n",
       "        vertical-align: top;\n",
       "    }\n",
       "\n",
       "    .dataframe thead th {\n",
       "        text-align: right;\n",
       "    }\n",
       "</style>\n",
       "<table border=\"1\" class=\"dataframe\">\n",
       "  <thead>\n",
       "    <tr style=\"text-align: right;\">\n",
       "      <th></th>\n",
       "      <th>ID</th>\n",
       "    </tr>\n",
       "  </thead>\n",
       "  <tbody>\n",
       "    <tr>\n",
       "      <th>0</th>\n",
       "      <td>15300</td>\n",
       "    </tr>\n",
       "    <tr>\n",
       "      <th>1</th>\n",
       "      <td>13581</td>\n",
       "    </tr>\n",
       "    <tr>\n",
       "      <th>2</th>\n",
       "      <td>14598</td>\n",
       "    </tr>\n",
       "    <tr>\n",
       "      <th>3</th>\n",
       "      <td>17105</td>\n",
       "    </tr>\n",
       "    <tr>\n",
       "      <th>4</th>\n",
       "      <td>13940</td>\n",
       "    </tr>\n",
       "  </tbody>\n",
       "</table>\n",
       "</div>"
      ],
      "text/plain": [
       "      ID\n",
       "0  15300\n",
       "1  13581\n",
       "2  14598\n",
       "3  17105\n",
       "4  13940"
      ]
     },
     "execution_count": 7,
     "metadata": {},
     "output_type": "execute_result"
    }
   ],
   "source": [
    "ordinary2 = []\n",
    "for name in names:\n",
    "    ordinary2.append(name['idDrink'])\n",
    "    \n",
    "ord_df2 = pd.DataFrame(ordinary2)\n",
    "ord_df2.rename(columns = {0: \"ID\"}, inplace = True)\n",
    "ord_df2.head()"
   ]
  },
  {
   "cell_type": "code",
   "execution_count": 8,
   "metadata": {},
   "outputs": [
    {
     "data": {
      "text/html": [
       "<div>\n",
       "<style scoped>\n",
       "    .dataframe tbody tr th:only-of-type {\n",
       "        vertical-align: middle;\n",
       "    }\n",
       "\n",
       "    .dataframe tbody tr th {\n",
       "        vertical-align: top;\n",
       "    }\n",
       "\n",
       "    .dataframe thead th {\n",
       "        text-align: right;\n",
       "    }\n",
       "</style>\n",
       "<table border=\"1\" class=\"dataframe\">\n",
       "  <thead>\n",
       "    <tr style=\"text-align: right;\">\n",
       "      <th></th>\n",
       "      <th>Image URL</th>\n",
       "    </tr>\n",
       "  </thead>\n",
       "  <tbody>\n",
       "    <tr>\n",
       "      <th>0</th>\n",
       "      <td>https://www.thecocktaildb.com/images/media/dri...</td>\n",
       "    </tr>\n",
       "    <tr>\n",
       "      <th>1</th>\n",
       "      <td>https://www.thecocktaildb.com/images/media/dri...</td>\n",
       "    </tr>\n",
       "    <tr>\n",
       "      <th>2</th>\n",
       "      <td>https://www.thecocktaildb.com/images/media/dri...</td>\n",
       "    </tr>\n",
       "    <tr>\n",
       "      <th>3</th>\n",
       "      <td>https://www.thecocktaildb.com/images/media/dri...</td>\n",
       "    </tr>\n",
       "    <tr>\n",
       "      <th>4</th>\n",
       "      <td>https://www.thecocktaildb.com/images/media/dri...</td>\n",
       "    </tr>\n",
       "  </tbody>\n",
       "</table>\n",
       "</div>"
      ],
      "text/plain": [
       "                                           Image URL\n",
       "0  https://www.thecocktaildb.com/images/media/dri...\n",
       "1  https://www.thecocktaildb.com/images/media/dri...\n",
       "2  https://www.thecocktaildb.com/images/media/dri...\n",
       "3  https://www.thecocktaildb.com/images/media/dri...\n",
       "4  https://www.thecocktaildb.com/images/media/dri..."
      ]
     },
     "execution_count": 8,
     "metadata": {},
     "output_type": "execute_result"
    }
   ],
   "source": [
    "ordinary3 = []\n",
    "for name in names:\n",
    "    ordinary3.append(name['strDrinkThumb'])\n",
    "    \n",
    "ord_df3 = pd.DataFrame(ordinary3)\n",
    "ord_df3.rename(columns = {0: \"Image URL\"}, inplace = True)\n",
    "ord_df3.head()"
   ]
  },
  {
   "cell_type": "code",
   "execution_count": 11,
   "metadata": {},
   "outputs": [
    {
     "data": {
      "text/html": [
       "<div>\n",
       "<style scoped>\n",
       "    .dataframe tbody tr th:only-of-type {\n",
       "        vertical-align: middle;\n",
       "    }\n",
       "\n",
       "    .dataframe tbody tr th {\n",
       "        vertical-align: top;\n",
       "    }\n",
       "\n",
       "    .dataframe thead th {\n",
       "        text-align: right;\n",
       "    }\n",
       "</style>\n",
       "<table border=\"1\" class=\"dataframe\">\n",
       "  <thead>\n",
       "    <tr style=\"text-align: right;\">\n",
       "      <th></th>\n",
       "      <th>ID</th>\n",
       "      <th>Name</th>\n",
       "      <th>Image URL</th>\n",
       "    </tr>\n",
       "  </thead>\n",
       "  <tbody>\n",
       "    <tr>\n",
       "      <th>0</th>\n",
       "      <td>15300</td>\n",
       "      <td>3-Mile Long Island Iced Tea</td>\n",
       "      <td>https://www.thecocktaildb.com/images/media/dri...</td>\n",
       "    </tr>\n",
       "    <tr>\n",
       "      <th>1</th>\n",
       "      <td>13581</td>\n",
       "      <td>410 Gone</td>\n",
       "      <td>https://www.thecocktaildb.com/images/media/dri...</td>\n",
       "    </tr>\n",
       "    <tr>\n",
       "      <th>2</th>\n",
       "      <td>14598</td>\n",
       "      <td>50/50</td>\n",
       "      <td>https://www.thecocktaildb.com/images/media/dri...</td>\n",
       "    </tr>\n",
       "    <tr>\n",
       "      <th>3</th>\n",
       "      <td>17105</td>\n",
       "      <td>501 Blue</td>\n",
       "      <td>https://www.thecocktaildb.com/images/media/dri...</td>\n",
       "    </tr>\n",
       "    <tr>\n",
       "      <th>4</th>\n",
       "      <td>13940</td>\n",
       "      <td>69 Special</td>\n",
       "      <td>https://www.thecocktaildb.com/images/media/dri...</td>\n",
       "    </tr>\n",
       "    <tr>\n",
       "      <th>...</th>\n",
       "      <td>...</td>\n",
       "      <td>...</td>\n",
       "      <td>...</td>\n",
       "    </tr>\n",
       "    <tr>\n",
       "      <th>271</th>\n",
       "      <td>17194</td>\n",
       "      <td>White Lady</td>\n",
       "      <td>https://www.thecocktaildb.com/images/media/dri...</td>\n",
       "    </tr>\n",
       "    <tr>\n",
       "      <th>272</th>\n",
       "      <td>12528</td>\n",
       "      <td>White Russian</td>\n",
       "      <td>https://www.thecocktaildb.com/images/media/dri...</td>\n",
       "    </tr>\n",
       "    <tr>\n",
       "      <th>273</th>\n",
       "      <td>15254</td>\n",
       "      <td>Zenmeister</td>\n",
       "      <td>https://www.thecocktaildb.com/images/media/dri...</td>\n",
       "    </tr>\n",
       "    <tr>\n",
       "      <th>274</th>\n",
       "      <td>14157</td>\n",
       "      <td>Ziemes Martini Apfelsaft</td>\n",
       "      <td>https://www.thecocktaildb.com/images/media/dri...</td>\n",
       "    </tr>\n",
       "    <tr>\n",
       "      <th>275</th>\n",
       "      <td>17027</td>\n",
       "      <td>Zima Blaster</td>\n",
       "      <td>https://www.thecocktaildb.com/images/media/dri...</td>\n",
       "    </tr>\n",
       "  </tbody>\n",
       "</table>\n",
       "<p>276 rows × 3 columns</p>\n",
       "</div>"
      ],
      "text/plain": [
       "        ID                         Name  \\\n",
       "0    15300  3-Mile Long Island Iced Tea   \n",
       "1    13581                     410 Gone   \n",
       "2    14598                        50/50   \n",
       "3    17105                     501 Blue   \n",
       "4    13940                   69 Special   \n",
       "..     ...                          ...   \n",
       "271  17194                   White Lady   \n",
       "272  12528                White Russian   \n",
       "273  15254                   Zenmeister   \n",
       "274  14157     Ziemes Martini Apfelsaft   \n",
       "275  17027                 Zima Blaster   \n",
       "\n",
       "                                             Image URL  \n",
       "0    https://www.thecocktaildb.com/images/media/dri...  \n",
       "1    https://www.thecocktaildb.com/images/media/dri...  \n",
       "2    https://www.thecocktaildb.com/images/media/dri...  \n",
       "3    https://www.thecocktaildb.com/images/media/dri...  \n",
       "4    https://www.thecocktaildb.com/images/media/dri...  \n",
       "..                                                 ...  \n",
       "271  https://www.thecocktaildb.com/images/media/dri...  \n",
       "272  https://www.thecocktaildb.com/images/media/dri...  \n",
       "273  https://www.thecocktaildb.com/images/media/dri...  \n",
       "274  https://www.thecocktaildb.com/images/media/dri...  \n",
       "275  https://www.thecocktaildb.com/images/media/dri...  \n",
       "\n",
       "[276 rows x 3 columns]"
      ]
     },
     "execution_count": 11,
     "metadata": {},
     "output_type": "execute_result"
    }
   ],
   "source": [
    "ordinary_drinks = pd.concat([ord_df2, ord_df, ord_df3], axis =1)\n",
    "# ordinary_drinks.rename(columns = {1 : \"ID\", 2 : \"Drink Name\", 3 : \"Image URL\"})\n",
    "ordinary_drinks"
   ]
  },
  {
   "cell_type": "code",
   "execution_count": null,
   "metadata": {},
   "outputs": [],
   "source": []
  },
  {
   "cell_type": "code",
   "execution_count": 10,
   "metadata": {},
   "outputs": [],
   "source": [
    "# response2 = requests.get(cocktail_url).json()\n",
    "# print(response2['drinks'][0]['strDrink'])"
   ]
  }
 ],
 "metadata": {
  "kernelspec": {
   "display_name": "Python 3",
   "language": "python",
   "name": "python3"
  },
  "language_info": {
   "codemirror_mode": {
    "name": "ipython",
    "version": 3
   },
   "file_extension": ".py",
   "mimetype": "text/x-python",
   "name": "python",
   "nbconvert_exporter": "python",
   "pygments_lexer": "ipython3",
   "version": "3.7.6"
  }
 },
 "nbformat": 4,
 "nbformat_minor": 4
}
